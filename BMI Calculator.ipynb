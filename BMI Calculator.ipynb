{
 "cells": [
  {
   "cell_type": "markdown",
   "id": "f0bb92c7",
   "metadata": {},
   "source": [
    "# BMI Calculator (Калькулятор ИМТ)"
   ]
  },
  {
   "cell_type": "markdown",
   "id": "c81609c0",
   "metadata": {},
   "source": [
    "ИМТ = вес (кг) / рост (м)2"
   ]
  },
  {
   "cell_type": "code",
   "execution_count": 28,
   "id": "94e485a5",
   "metadata": {
    "ExecuteTime": {
     "end_time": "2023-12-19T10:04:54.051300Z",
     "start_time": "2023-12-19T10:03:53.925887Z"
    }
   },
   "outputs": [
    {
     "name": "stdout",
     "output_type": "stream",
     "text": [
      "Enter your name: George\n",
      "Enter your weight in kg: 95\n",
      "Enter your height in cm: 100\n",
      "95.0\n",
      "George, you are morbidly obese. We advise you to seek help from a doctor\n"
     ]
    }
   ],
   "source": [
    "name = input('Enter your name: ')\n",
    "\n",
    "weight = int(input('Enter your weight in kg: '))\n",
    "\n",
    "height = int(input('Enter your height in cm: '))\n",
    "\n",
    "BMI = weight / ((height * height) / 10000)\n",
    "\n",
    "print(round(BMI, 2))\n",
    "\n",
    "if BMI > 0:\n",
    "    if(BMI < 18.5):\n",
    "        print(name + ', you are underweight')\n",
    "    elif(BMI <= 24.9):\n",
    "        print(name + ', you are normal weight')\n",
    "    elif(BMI <= 29.9):\n",
    "        print(name + ', you are overweight')\n",
    "    elif(BMI <= 34.9):\n",
    "        print(name + ', you are obese')\n",
    "    elif(BMI <= 39.9):\n",
    "        print(name + ', you are severely obese')\n",
    "    elif(BMI >= 40):\n",
    "        print(name + ', you are morbidly obese.  We advise you to seek help from a doctor')\n",
    "    else:\n",
    "        print(name + ', please, enter valid inputs')"
   ]
  }
 ],
 "metadata": {
  "kernelspec": {
   "display_name": "Python 3 (ipykernel)",
   "language": "python",
   "name": "python3"
  },
  "language_info": {
   "codemirror_mode": {
    "name": "ipython",
    "version": 3
   },
   "file_extension": ".py",
   "mimetype": "text/x-python",
   "name": "python",
   "nbconvert_exporter": "python",
   "pygments_lexer": "ipython3",
   "version": "3.11.5"
  },
  "toc": {
   "base_numbering": 1,
   "nav_menu": {},
   "number_sections": true,
   "sideBar": true,
   "skip_h1_title": false,
   "title_cell": "Table of Contents",
   "title_sidebar": "Contents",
   "toc_cell": false,
   "toc_position": {},
   "toc_section_display": true,
   "toc_window_display": false
  }
 },
 "nbformat": 4,
 "nbformat_minor": 5
}
