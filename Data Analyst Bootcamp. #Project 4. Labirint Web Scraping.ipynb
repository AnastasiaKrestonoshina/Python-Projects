{
 "cells": [
  {
   "cell_type": "code",
   "execution_count": 1,
   "id": "b692a06a",
   "metadata": {
    "ExecuteTime": {
     "end_time": "2024-01-26T11:46:29.493202Z",
     "start_time": "2024-01-26T11:46:29.291303Z"
    }
   },
   "outputs": [],
   "source": [
    "# загружаем библиотеки\n",
    "\n",
    "from bs4 import BeautifulSoup\n",
    "import requests\n",
    "import smtplib\n",
    "import time\n",
    "import datetime"
   ]
  },
  {
   "cell_type": "code",
   "execution_count": 50,
   "id": "fbd2ccd5",
   "metadata": {
    "ExecuteTime": {
     "end_time": "2024-01-26T13:45:57.517687Z",
     "start_time": "2024-01-26T13:45:55.866758Z"
    }
   },
   "outputs": [
    {
     "name": "stdout",
     "output_type": "stream",
     "text": [
      "Франц Кафка: Процесс\n",
      "Цена со скидкой (в рублях):  1091\n",
      "Рейтинг:  9.00\n",
      "ISBN: 978-5-9268-2794-8\n",
      "Страниц: 320 (Офсет) — прочитаете за7 дней\n",
      "ID товара: 640659\n",
      "Размеры: 174x124x26 мм\n",
      "Масса: 400 г\n",
      "Аннотация к книге \"Процесс\"\n",
      "Один из самых загадочных текстов XX века, роман \"Процесс\" был недописан. Кафка завещал своему другу и душеприказчику Максу Броду сжечь рукопись, но воля писателя была нарушена - текст романа попал к читателю через десять лет после смерти автора. Споры о трактовке романа не утихают до сих пор. Что это: метафора личной жизни писателя и предчувствие его скорой смерти? Портрет тоталитарного общества, где личность беззащитна перед системой? Или же перед нами философский роман о суде человека над самим собой?.. Многогранный роман не теряет актуальности и сейчас.Иллюстрации Стефании Янковской, передающие абсурдистский дух произведения, созданы специально для настоящего издания и публикуются впервые.\n"
     ]
    }
   ],
   "source": [
    "# подключаемся к вебсайту\n",
    "URL = 'https://www.labirint.ru/books/640659/'\n",
    "\n",
    "# http://httpbin.org/get\n",
    "headers = {\"User-Agent\": \"Mozilla/5.0 (Windows NT 10.0; Win64; x64; rv:121.0) Gecko/20100101 Firefox/121.0\"}\n",
    "\n",
    "page = requests.get(URL, headers = headers)\n",
    "\n",
    "soup1 = BeautifulSoup(page.content, 'html.parser')\n",
    "\n",
    "soup2 = BeautifulSoup(soup1.prettify(), 'html.parser')\n",
    "\n",
    "title = soup2.find('h1').get_text(strip=True)\n",
    "price = soup2.find('span', class_=\"buying-pricenew-val-number\").get_text(strip=True)\n",
    "rate = soup2.find('div', id =\"rate\").get_text(strip=True)\n",
    "ISBN = soup2.find('div', class_ =\"isbn\").get_text(strip=True)\n",
    "pages = soup2.find('div', class_ =\"pages2\").get_text(strip=True)\n",
    "ID_of_item = soup2.find('div', class_ =\"articul\").get_text(strip=True)\n",
    "size = soup2.find('div', class_ =\"dimensions\").get_text(strip=True)\n",
    "weight = soup2.find('div', class_ =\"weight\").get_text(strip=True)\n",
    "annotation = soup2.find('h2').get_text(strip=True)\n",
    "description = soup2.find('noindex').get_text(strip=True)\n",
    "\n",
    "\n",
    "\n",
    "\n",
    "print (title)\n",
    "print('Цена со скидкой (в рублях): ', price)\n",
    "print('Рейтинг: ', rate)\n",
    "print(ISBN)\n",
    "print(pages)\n",
    "print(ID_of_item)\n",
    "print(size)\n",
    "print(weight)\n",
    "print(annotation)\n",
    "print(description)"
   ]
  },
  {
   "cell_type": "code",
   "execution_count": 54,
   "id": "2046d61e",
   "metadata": {
    "ExecuteTime": {
     "end_time": "2024-01-26T13:59:22.268818Z",
     "start_time": "2024-01-26T13:59:22.260949Z"
    }
   },
   "outputs": [],
   "source": [
    "# сохраним основную информацию в файл csv\n",
    "\n",
    "import csv\n",
    "\n",
    "header = ['Название', 'Цена', 'Рейтинг', 'Дата', 'ISBN', 'Количество страниц', 'ID', 'Размер', 'Масса']\n",
    "data = [title, price, rate, today, ISBN, pages, ID_of_item, size, weight]\n",
    "\n",
    "#with open('Labirint_Web_Scraping_Dataset.csv', 'w', newline='', encoding = 'UTF8') as f:\n",
    "    #writer = csv.writer(f)\n",
    "    #writer.writerow(header)\n",
    "    #writer.writerow(data)"
   ]
  },
  {
   "cell_type": "code",
   "execution_count": 51,
   "id": "06b9cbc3",
   "metadata": {
    "ExecuteTime": {
     "end_time": "2024-01-26T13:46:58.595078Z",
     "start_time": "2024-01-26T13:46:58.584167Z"
    }
   },
   "outputs": [
    {
     "name": "stdout",
     "output_type": "stream",
     "text": [
      "2024-01-26\n"
     ]
    }
   ],
   "source": [
    "# Когда были собраны данные? \n",
    "\n",
    "import datetime\n",
    "\n",
    "today = datetime.date.today()\n",
    "\n",
    "print(today)"
   ]
  },
  {
   "cell_type": "code",
   "execution_count": 57,
   "id": "9baebb0d",
   "metadata": {
    "ExecuteTime": {
     "end_time": "2024-01-26T14:04:45.737941Z",
     "start_time": "2024-01-26T14:04:45.720118Z"
    }
   },
   "outputs": [
    {
     "name": "stdout",
     "output_type": "stream",
     "text": [
      "               Название  Цена  Рейтинг        Дата                     ISBN  \\\n",
      "0  Франц Кафка: Процесс  1091      9.0  2024-01-26  ISBN: 978-5-9268-2794-8   \n",
      "\n",
      "                           Количество страниц                 ID  \\\n",
      "0  Страниц: 320 (Офсет) — прочитаете за7 дней  ID товара: 640659   \n",
      "\n",
      "                   Размер         Масса  \n",
      "0  Размеры: 174x124x26 мм  Масса: 400 г  \n"
     ]
    }
   ],
   "source": [
    "import pandas as pd\n",
    "\n",
    "df = pd.read_csv(r'C:\\Users\\nasty\\Labirint_Web_Scraping_Dataset.csv')\n",
    "\n",
    "print(df)"
   ]
  },
  {
   "cell_type": "code",
   "execution_count": 67,
   "id": "785e7fdb",
   "metadata": {
    "ExecuteTime": {
     "end_time": "2024-01-26T14:14:51.763536Z",
     "start_time": "2024-01-26T14:14:51.747342Z"
    }
   },
   "outputs": [
    {
     "name": "stdout",
     "output_type": "stream",
     "text": [
      "               Название  Цена Рейтинг        Дата               ISBN  \\\n",
      "0  Франц Кафка: Процесс  1091     9.0  2024-01-26  978-5-9268-2794-8   \n",
      "\n",
      "  Количество страниц      ID      Размер Масса  \n",
      "0                320  640659  174x124x26   400  \n"
     ]
    }
   ],
   "source": [
    "\n",
    "\n",
    "import re\n",
    "\n",
    "def clean_value(x):\n",
    "    cleaned_value = re.sub(r'\\b(?:ISBN|Страниц|ID товара|Размеры|Масса)\\b[^a-zA-Z0-9а-яА-Я]', '', str(x))\n",
    "    cleaned_value = re.sub(r'\\(.*\\)', '', cleaned_value)\n",
    "    cleaned_value = cleaned_value.replace('мм', '').replace('г', '').replace('—', '').replace('прочитаете', '').replace('за7', '').replace('дней', '')\n",
    "    return cleaned_value.strip()\n",
    "\n",
    "df_cleaned = df.applymap(clean_value)\n",
    "\n",
    "print(df_cleaned)"
   ]
  },
  {
   "cell_type": "code",
   "execution_count": 68,
   "id": "1015d04a",
   "metadata": {
    "ExecuteTime": {
     "end_time": "2024-01-26T14:16:09.646364Z",
     "start_time": "2024-01-26T14:16:09.627000Z"
    }
   },
   "outputs": [
    {
     "data": {
      "text/html": [
       "<div>\n",
       "<style scoped>\n",
       "    .dataframe tbody tr th:only-of-type {\n",
       "        vertical-align: middle;\n",
       "    }\n",
       "\n",
       "    .dataframe tbody tr th {\n",
       "        vertical-align: top;\n",
       "    }\n",
       "\n",
       "    .dataframe thead th {\n",
       "        text-align: right;\n",
       "    }\n",
       "</style>\n",
       "<table border=\"1\" class=\"dataframe\">\n",
       "  <thead>\n",
       "    <tr style=\"text-align: right;\">\n",
       "      <th></th>\n",
       "      <th>Название</th>\n",
       "      <th>Цена</th>\n",
       "      <th>Рейтинг</th>\n",
       "      <th>Дата</th>\n",
       "      <th>ISBN</th>\n",
       "      <th>Количество страниц</th>\n",
       "      <th>ID</th>\n",
       "      <th>Размер</th>\n",
       "      <th>Масса</th>\n",
       "    </tr>\n",
       "  </thead>\n",
       "  <tbody>\n",
       "    <tr>\n",
       "      <th>0</th>\n",
       "      <td>Франц Кафка: Процесс</td>\n",
       "      <td>1091</td>\n",
       "      <td>9.0</td>\n",
       "      <td>2024-01-26</td>\n",
       "      <td>978-5-9268-2794-8</td>\n",
       "      <td>320</td>\n",
       "      <td>640659</td>\n",
       "      <td>174x124x26</td>\n",
       "      <td>400</td>\n",
       "    </tr>\n",
       "  </tbody>\n",
       "</table>\n",
       "</div>"
      ],
      "text/plain": [
       "               Название  Цена Рейтинг        Дата               ISBN  \\\n",
       "0  Франц Кафка: Процесс  1091     9.0  2024-01-26  978-5-9268-2794-8   \n",
       "\n",
       "  Количество страниц      ID      Размер Масса  \n",
       "0                320  640659  174x124x26   400  "
      ]
     },
     "execution_count": 68,
     "metadata": {},
     "output_type": "execute_result"
    }
   ],
   "source": [
    "df_cleaned"
   ]
  },
  {
   "cell_type": "code",
   "execution_count": 71,
   "id": "b1758fa8",
   "metadata": {
    "ExecuteTime": {
     "end_time": "2024-01-26T14:22:48.560404Z",
     "start_time": "2024-01-26T14:22:48.549374Z"
    }
   },
   "outputs": [],
   "source": [
    "def check_price():\n",
    "    URL = 'https://www.labirint.ru/books/640659/'\n",
    "    \n",
    "    headers = {\"User-Agent\": \"Mozilla/5.0 (Windows NT 10.0; Win64; x64; rv:121.0) Gecko/20100101 Firefox/121.0\"}\n",
    "    \n",
    "    page = requests.get(URL, headers = headers)\n",
    "    soup1 = BeautifulSoup(page.content, 'html.parser')\n",
    "    soup2 = BeautifulSoup(soup1.prettify(), 'html.parser')\n",
    "    \n",
    "    title = soup2.find('h1').get_text(strip=True)\n",
    "    price = soup2.find('span', class_=\"buying-pricenew-val-number\").get_text(strip=True)\n",
    "    rate = soup2.find('div', id =\"rate\").get_text(strip=True)\n",
    "    ISBN = soup2.find('div', class_ =\"isbn\").get_text(strip=True)\n",
    "    pages = soup2.find('div', class_ =\"pages2\").get_text(strip=True)\n",
    "    ID_of_item = soup2.find('div', class_ =\"articul\").get_text(strip=True)\n",
    "    size = soup2.find('div', class_ =\"dimensions\").get_text(strip=True)\n",
    "    weight = soup2.find('div', class_ =\"weight\").get_text(strip=True)\n",
    "    annotation = soup2.find('h2').get_text(strip=True)\n",
    "    description = soup2.find('noindex').get_text(strip=True)\n",
    "    \n",
    "    import datetime\n",
    "    today = datetime.date.today()\n",
    "    \n",
    "    import csv\n",
    "    header = ['Название', 'Цена', 'Рейтинг', 'Дата', 'ISBN', 'Количество страниц', 'ID', 'Размер', 'Масса']\n",
    "    data = [title, price, rate, today, ISBN, pages, ID_of_item, size, weight]\n",
    "    \n",
    "    with open('Labirint_Web_Scraping_Dataset.csv', 'a+', newline='', encoding = 'UTF8') as f:\n",
    "        writer = csv.writer(f)\n",
    "        writer.writerow(data)"
   ]
  },
  {
   "cell_type": "code",
   "execution_count": null,
   "id": "21268f9d",
   "metadata": {},
   "outputs": [],
   "source": [
    "#создадим таймер, который будет выгружать данные раз в сутки, чтобы следить за изменением цены\n",
    "\n",
    "while(True):\n",
    "    check_price()\n",
    "    time.sleep(86400)"
   ]
  },
  {
   "cell_type": "code",
   "execution_count": null,
   "id": "3a42fe7c",
   "metadata": {},
   "outputs": [],
   "source": []
  }
 ],
 "metadata": {
  "kernelspec": {
   "display_name": "Python 3 (ipykernel)",
   "language": "python",
   "name": "python3"
  },
  "language_info": {
   "codemirror_mode": {
    "name": "ipython",
    "version": 3
   },
   "file_extension": ".py",
   "mimetype": "text/x-python",
   "name": "python",
   "nbconvert_exporter": "python",
   "pygments_lexer": "ipython3",
   "version": "3.11.5"
  },
  "toc": {
   "base_numbering": 1,
   "nav_menu": {},
   "number_sections": true,
   "sideBar": true,
   "skip_h1_title": false,
   "title_cell": "Table of Contents",
   "title_sidebar": "Contents",
   "toc_cell": false,
   "toc_position": {},
   "toc_section_display": true,
   "toc_window_display": false
  }
 },
 "nbformat": 4,
 "nbformat_minor": 5
}
