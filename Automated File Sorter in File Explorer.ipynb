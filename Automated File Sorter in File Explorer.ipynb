{
 "cells": [
  {
   "cell_type": "markdown",
   "id": "d994194a",
   "metadata": {},
   "source": [
    "# Automatic File Sorter in File Explorer"
   ]
  },
  {
   "cell_type": "markdown",
   "id": "5c1c951a",
   "metadata": {},
   "source": [
    "##### Импортируем ОС, диктуем путь"
   ]
  },
  {
   "cell_type": "code",
   "execution_count": 21,
   "id": "0e6eab75",
   "metadata": {
    "ExecuteTime": {
     "end_time": "2024-01-16T12:25:37.424735Z",
     "start_time": "2024-01-16T12:25:37.420892Z"
    }
   },
   "outputs": [],
   "source": [
    "import os, shutil"
   ]
  },
  {
   "cell_type": "code",
   "execution_count": 22,
   "id": "977ad2db",
   "metadata": {
    "ExecuteTime": {
     "end_time": "2024-01-16T12:25:39.778064Z",
     "start_time": "2024-01-16T12:25:39.770893Z"
    }
   },
   "outputs": [],
   "source": [
    "path = r\"C:/Users/nasty/Desktop/Folder/\""
   ]
  },
  {
   "cell_type": "markdown",
   "id": "734213d2",
   "metadata": {},
   "source": [
    "##### Функция os.listdir(path) возвращает список строк, представляющих имена всех элементов в указанной папке. Через \"file_name =\" задаем имя"
   ]
  },
  {
   "cell_type": "code",
   "execution_count": 23,
   "id": "9779d0c0",
   "metadata": {
    "ExecuteTime": {
     "end_time": "2024-01-16T12:25:42.100312Z",
     "start_time": "2024-01-16T12:25:42.091778Z"
    }
   },
   "outputs": [],
   "source": [
    "file_name = os.listdir(path)"
   ]
  },
  {
   "cell_type": "markdown",
   "id": "e304f93e",
   "metadata": {},
   "source": [
    "1. Создаем цикл. Внутри цикла проверяется существование папки с использованием os.path.exists(). Если папка не существует, выводится ее путь с помощью print, а затем создается с использованием os.makedirs().\n",
    "\n",
    "2. Перемещаем файлы по папкам"
   ]
  },
  {
   "cell_type": "code",
   "execution_count": 25,
   "id": "4c83ccba",
   "metadata": {
    "ExecuteTime": {
     "end_time": "2024-01-16T12:26:10.043994Z",
     "start_time": "2024-01-16T12:26:10.030775Z"
    }
   },
   "outputs": [],
   "source": [
    "folder_names = ['zip files', 'image files', 'text files']\n",
    "\n",
    "for loop in range(0,3):\n",
    "    if not os.path.exists(path + folder_names[loop]):\n",
    "        os.makedirs((path + folder_names[loop]))\n",
    "        \n",
    "for file in file_name:\n",
    "    if \".jpg\" in file and not os.path.exists(path + \"image files/\" + file):\n",
    "        shutil.move(path + file, path + \"image files/\" + file)\n",
    "    elif \".JPG\" in file and not os.path.exists(path + \"image files/\" + file):\n",
    "        shutil.move(path + file, path + \"image files/\" + file)\n",
    "    elif \".png\" in file and not os.path.exists(path + \"image files/\" + file):\n",
    "        shutil.move(path + file, path + \"image files/\" + file)\n",
    "    elif \".zip\" in file and not os.path.exists(path + \"zip files/\" + file):\n",
    "        shutil.move(path + file, path + \"zip files/\" + file)\n",
    "    elif \".docx\" in file and not os.path.exists(path + \"text files/\" + file):\n",
    "        shutil.move(path + file, path + \"text files/\" + file)"
   ]
  }
 ],
 "metadata": {
  "kernelspec": {
   "display_name": "Python 3 (ipykernel)",
   "language": "python",
   "name": "python3"
  },
  "language_info": {
   "codemirror_mode": {
    "name": "ipython",
    "version": 3
   },
   "file_extension": ".py",
   "mimetype": "text/x-python",
   "name": "python",
   "nbconvert_exporter": "python",
   "pygments_lexer": "ipython3",
   "version": "3.11.5"
  },
  "toc": {
   "base_numbering": 1,
   "nav_menu": {},
   "number_sections": true,
   "sideBar": true,
   "skip_h1_title": false,
   "title_cell": "Table of Contents",
   "title_sidebar": "Contents",
   "toc_cell": false,
   "toc_position": {},
   "toc_section_display": true,
   "toc_window_display": false
  }
 },
 "nbformat": 4,
 "nbformat_minor": 5
}
