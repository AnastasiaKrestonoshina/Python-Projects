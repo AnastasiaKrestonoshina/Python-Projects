{
 "cells": [
  {
   "cell_type": "markdown",
   "id": "004d2a85",
   "metadata": {},
   "source": [
    "# Scraping Data from a Website"
   ]
  },
  {
   "cell_type": "markdown",
   "id": "9b685237",
   "metadata": {},
   "source": [
    "https://ru.wikipedia.org/wiki/Fortune_Global_500"
   ]
  },
  {
   "cell_type": "code",
   "execution_count": 2,
   "id": "a6b79ed1",
   "metadata": {
    "ExecuteTime": {
     "end_time": "2024-01-30T08:25:32.101085Z",
     "start_time": "2024-01-30T08:25:31.846930Z"
    }
   },
   "outputs": [],
   "source": [
    "from bs4 import BeautifulSoup\n",
    "import requests"
   ]
  },
  {
   "cell_type": "code",
   "execution_count": 3,
   "id": "f028bdab",
   "metadata": {
    "ExecuteTime": {
     "end_time": "2024-01-30T08:25:34.805357Z",
     "start_time": "2024-01-30T08:25:34.128219Z"
    }
   },
   "outputs": [],
   "source": [
    "url = 'https://ru.wikipedia.org/wiki/Fortune_Global_500'\n",
    "\n",
    "page = requests.get(url)\n",
    "\n",
    "soup = BeautifulSoup(page.text, 'html')"
   ]
  },
  {
   "cell_type": "code",
   "execution_count": 13,
   "id": "c38dc84b",
   "metadata": {
    "ExecuteTime": {
     "end_time": "2024-01-30T08:28:10.424339Z",
     "start_time": "2024-01-30T08:28:10.420626Z"
    }
   },
   "outputs": [],
   "source": [
    "#print(soup)"
   ]
  },
  {
   "cell_type": "code",
   "execution_count": 14,
   "id": "ae2bdca6",
   "metadata": {
    "ExecuteTime": {
     "end_time": "2024-01-30T08:28:14.949869Z",
     "start_time": "2024-01-30T08:28:14.943217Z"
    }
   },
   "outputs": [],
   "source": [
    "table = soup.find_all('table')[0]\n",
    "\n",
    "#индексируем, какая именно таблица нас интересует. в данном случае, первая (нумерация с нуля)"
   ]
  },
  {
   "cell_type": "code",
   "execution_count": 16,
   "id": "37bed9ae",
   "metadata": {
    "ExecuteTime": {
     "end_time": "2024-01-30T08:29:52.423659Z",
     "start_time": "2024-01-30T08:29:52.415469Z"
    }
   },
   "outputs": [
    {
     "data": {
      "text/html": [
       "<table class=\"wikitable sortable jquery-tablesorter\">\n"
      ],
      "text/plain": [
       "<IPython.core.display.HTML object>"
      ]
     },
     "metadata": {},
     "output_type": "display_data"
    }
   ],
   "source": [
    "%%html\n",
    "<table class=\"wikitable sortable jquery-tablesorter\">"
   ]
  },
  {
   "cell_type": "code",
   "execution_count": 19,
   "id": "2e5f137d",
   "metadata": {
    "ExecuteTime": {
     "end_time": "2024-01-30T08:31:20.031743Z",
     "start_time": "2024-01-30T08:31:20.025701Z"
    }
   },
   "outputs": [],
   "source": [
    "#print(table)"
   ]
  },
  {
   "cell_type": "code",
   "execution_count": 22,
   "id": "002f220b",
   "metadata": {
    "ExecuteTime": {
     "end_time": "2024-01-17T14:31:29.451463Z",
     "start_time": "2024-01-17T14:31:29.442466Z"
    }
   },
   "outputs": [],
   "source": [
    "world_titles = soup.find_all('th')"
   ]
  },
  {
   "cell_type": "code",
   "execution_count": 20,
   "id": "f6402081",
   "metadata": {
    "ExecuteTime": {
     "end_time": "2024-01-30T08:32:02.970205Z",
     "start_time": "2024-01-30T08:32:02.965112Z"
    }
   },
   "outputs": [],
   "source": [
    "#world_titles"
   ]
  },
  {
   "cell_type": "code",
   "execution_count": 24,
   "id": "67d61247",
   "metadata": {
    "ExecuteTime": {
     "end_time": "2024-01-17T14:32:31.806512Z",
     "start_time": "2024-01-17T14:32:31.800371Z"
    }
   },
   "outputs": [
    {
     "name": "stdout",
     "output_type": "stream",
     "text": [
      "['Номерп. п.', 'Название', 'Страна', 'Выручка,млрд $', 'Чистаяприбыль,млрд $', 'Активы,млрд $', 'Собств.капитал,млрд $', 'Рыночнаякапитализ.,млрд $', 'Числосотр.', '№', 'Компания', 'Страна', 'Отрасль', 'Выручка', '1', '2', '3', '4', '5', '6', '7', '8', '9', '10', '№', 'Компания', 'Страна', 'Отрасль', 'Выручка', '1', '2', '3', '4', '5', '6', '7', '8', '9', '10', '№', 'Компания', 'Страна', 'Отрасль', 'Выручка', '№', 'Компания', 'Страна', 'Отрасль', '№', 'Компания', 'Страна', 'Отрасль', 'Выручка', '№', 'Компания', 'Страна', 'Отрасль', '№', 'Страна', 'Кол-во компаний', '№', 'Компания', 'Страна', 'Отрасль', '№', 'Компания', 'Страна', 'Отрасль', 'Компания', 'Ранг', 'Оборотв млрд. $', '№', '', 'Страна', 'Отрасль', '№', 'Компания', 'Страна', 'Отрасль']\n"
     ]
    }
   ],
   "source": [
    "world_table_titles = [title.text.strip() for title in world_titles]\n",
    "\n",
    "print(world_table_titles)"
   ]
  },
  {
   "cell_type": "code",
   "execution_count": 25,
   "id": "51417b3a",
   "metadata": {
    "ExecuteTime": {
     "end_time": "2024-01-17T14:38:35.549426Z",
     "start_time": "2024-01-17T14:38:35.540314Z"
    }
   },
   "outputs": [],
   "source": [
    "del world_table_titles[9:]"
   ]
  },
  {
   "cell_type": "code",
   "execution_count": 26,
   "id": "98ce5ba6",
   "metadata": {
    "ExecuteTime": {
     "end_time": "2024-01-17T14:38:51.785195Z",
     "start_time": "2024-01-17T14:38:51.780210Z"
    }
   },
   "outputs": [
    {
     "name": "stdout",
     "output_type": "stream",
     "text": [
      "['Номерп. п.', 'Название', 'Страна', 'Выручка,млрд $', 'Чистаяприбыль,млрд $', 'Активы,млрд $', 'Собств.капитал,млрд $', 'Рыночнаякапитализ.,млрд $', 'Числосотр.']\n"
     ]
    }
   ],
   "source": [
    "print(world_table_titles)"
   ]
  },
  {
   "cell_type": "code",
   "execution_count": 27,
   "id": "9f6ee6e8",
   "metadata": {
    "ExecuteTime": {
     "end_time": "2024-01-17T14:48:24.859528Z",
     "start_time": "2024-01-17T14:48:23.660490Z"
    }
   },
   "outputs": [],
   "source": [
    "import pandas as pd"
   ]
  },
  {
   "cell_type": "code",
   "execution_count": 28,
   "id": "165376fc",
   "metadata": {
    "ExecuteTime": {
     "end_time": "2024-01-17T14:49:12.514280Z",
     "start_time": "2024-01-17T14:49:12.499406Z"
    }
   },
   "outputs": [],
   "source": [
    "df = pd.DataFrame(columns = world_table_titles)"
   ]
  },
  {
   "cell_type": "code",
   "execution_count": 29,
   "id": "1e8156d4",
   "metadata": {
    "ExecuteTime": {
     "end_time": "2024-01-17T14:49:21.790971Z",
     "start_time": "2024-01-17T14:49:21.759318Z"
    }
   },
   "outputs": [
    {
     "data": {
      "text/html": [
       "<div>\n",
       "<style scoped>\n",
       "    .dataframe tbody tr th:only-of-type {\n",
       "        vertical-align: middle;\n",
       "    }\n",
       "\n",
       "    .dataframe tbody tr th {\n",
       "        vertical-align: top;\n",
       "    }\n",
       "\n",
       "    .dataframe thead th {\n",
       "        text-align: right;\n",
       "    }\n",
       "</style>\n",
       "<table border=\"1\" class=\"dataframe\">\n",
       "  <thead>\n",
       "    <tr style=\"text-align: right;\">\n",
       "      <th></th>\n",
       "      <th>Номерп. п.</th>\n",
       "      <th>Название</th>\n",
       "      <th>Страна</th>\n",
       "      <th>Выручка,млрд $</th>\n",
       "      <th>Чистаяприбыль,млрд $</th>\n",
       "      <th>Активы,млрд $</th>\n",
       "      <th>Собств.капитал,млрд $</th>\n",
       "      <th>Рыночнаякапитализ.,млрд $</th>\n",
       "      <th>Числосотр.</th>\n",
       "    </tr>\n",
       "  </thead>\n",
       "  <tbody>\n",
       "  </tbody>\n",
       "</table>\n",
       "</div>"
      ],
      "text/plain": [
       "Empty DataFrame\n",
       "Columns: [Номерп. п., Название, Страна, Выручка,млрд $, Чистаяприбыль,млрд $, Активы,млрд $, Собств.капитал,млрд $, Рыночнаякапитализ.,млрд $, Числосотр.]\n",
       "Index: []"
      ]
     },
     "execution_count": 29,
     "metadata": {},
     "output_type": "execute_result"
    }
   ],
   "source": [
    "df"
   ]
  },
  {
   "cell_type": "code",
   "execution_count": 31,
   "id": "a51b4681",
   "metadata": {
    "ExecuteTime": {
     "end_time": "2024-01-17T14:51:42.969035Z",
     "start_time": "2024-01-17T14:51:42.961039Z"
    }
   },
   "outputs": [],
   "source": [
    "column_data = table.find_all('tr')"
   ]
  },
  {
   "cell_type": "code",
   "execution_count": 34,
   "id": "dd4683d9",
   "metadata": {
    "ExecuteTime": {
     "end_time": "2024-01-17T15:01:56.251456Z",
     "start_time": "2024-01-17T15:01:56.181454Z"
    }
   },
   "outputs": [],
   "source": [
    "for row in column_data[1:]:\n",
    "    row_data = row.find_all('td')\n",
    "    individual_row_data = [data.text.strip() for data in row_data]\n",
    "    #print(individual_row_data) # важно, чтобы принт был в цикле, иначе (после цикла) он выдаст нам только последнюю строчку\n",
    "    \n",
    "    length = len(df)\n",
    "    df.loc[length] = individual_row_data"
   ]
  },
  {
   "cell_type": "code",
   "execution_count": 35,
   "id": "72ae6310",
   "metadata": {
    "ExecuteTime": {
     "end_time": "2024-01-17T15:02:04.055951Z",
     "start_time": "2024-01-17T15:02:04.020117Z"
    }
   },
   "outputs": [
    {
     "data": {
      "text/html": [
       "<div>\n",
       "<style scoped>\n",
       "    .dataframe tbody tr th:only-of-type {\n",
       "        vertical-align: middle;\n",
       "    }\n",
       "\n",
       "    .dataframe tbody tr th {\n",
       "        vertical-align: top;\n",
       "    }\n",
       "\n",
       "    .dataframe thead th {\n",
       "        text-align: right;\n",
       "    }\n",
       "</style>\n",
       "<table border=\"1\" class=\"dataframe\">\n",
       "  <thead>\n",
       "    <tr style=\"text-align: right;\">\n",
       "      <th></th>\n",
       "      <th>Номерп. п.</th>\n",
       "      <th>Название</th>\n",
       "      <th>Страна</th>\n",
       "      <th>Выручка,млрд $</th>\n",
       "      <th>Чистаяприбыль,млрд $</th>\n",
       "      <th>Активы,млрд $</th>\n",
       "      <th>Собств.капитал,млрд $</th>\n",
       "      <th>Рыночнаякапитализ.,млрд $</th>\n",
       "      <th>Числосотр.</th>\n",
       "    </tr>\n",
       "  </thead>\n",
       "  <tbody>\n",
       "    <tr>\n",
       "      <th>0</th>\n",
       "      <td>1</td>\n",
       "      <td>Walmart</td>\n",
       "      <td>США</td>\n",
       "      <td>572,75</td>\n",
       "      <td>13,673</td>\n",
       "      <td>244,86</td>\n",
       "      <td>83,253</td>\n",
       "      <td>379,0</td>\n",
       "      <td>2 300 000[3]</td>\n",
       "    </tr>\n",
       "    <tr>\n",
       "      <th>1</th>\n",
       "      <td>2</td>\n",
       "      <td>Amazon</td>\n",
       "      <td>США</td>\n",
       "      <td>469,82</td>\n",
       "      <td>33,364</td>\n",
       "      <td>420,55</td>\n",
       "      <td>138,25</td>\n",
       "      <td>992,1</td>\n",
       "      <td>1 544 000[4]</td>\n",
       "    </tr>\n",
       "    <tr>\n",
       "      <th>2</th>\n",
       "      <td>3</td>\n",
       "      <td>State Grid</td>\n",
       "      <td>Китай</td>\n",
       "      <td>460,62</td>\n",
       "      <td>7,138</td>\n",
       "      <td>735,43</td>\n",
       "      <td>310,24</td>\n",
       "      <td>-</td>\n",
       "      <td>871 145[5]</td>\n",
       "    </tr>\n",
       "    <tr>\n",
       "      <th>3</th>\n",
       "      <td>4</td>\n",
       "      <td>China National Petroleum</td>\n",
       "      <td>Китай</td>\n",
       "      <td>411,69</td>\n",
       "      <td>9,638</td>\n",
       "      <td>660,01</td>\n",
       "      <td>313,31</td>\n",
       "      <td>-</td>\n",
       "      <td>1 090 345[6]</td>\n",
       "    </tr>\n",
       "    <tr>\n",
       "      <th>4</th>\n",
       "      <td>5</td>\n",
       "      <td>Sinopec Group</td>\n",
       "      <td>Китай</td>\n",
       "      <td>401,31</td>\n",
       "      <td>8,316</td>\n",
       "      <td>380,67</td>\n",
       "      <td>133,48</td>\n",
       "      <td>-</td>\n",
       "      <td>542 286[7]</td>\n",
       "    </tr>\n",
       "    <tr>\n",
       "      <th>5</th>\n",
       "      <td>6</td>\n",
       "      <td>Saudi Aramco</td>\n",
       "      <td>Саудовская Аравия</td>\n",
       "      <td>400,40</td>\n",
       "      <td>105,37</td>\n",
       "      <td>576,13</td>\n",
       "      <td>296,57</td>\n",
       "      <td>2269,1</td>\n",
       "      <td>68 493[8]</td>\n",
       "    </tr>\n",
       "    <tr>\n",
       "      <th>6</th>\n",
       "      <td>7</td>\n",
       "      <td>Apple</td>\n",
       "      <td>США</td>\n",
       "      <td>365,82</td>\n",
       "      <td>94,68</td>\n",
       "      <td>351,00</td>\n",
       "      <td>63,09</td>\n",
       "      <td>2183,3</td>\n",
       "      <td>164 000[9]</td>\n",
       "    </tr>\n",
       "    <tr>\n",
       "      <th>7</th>\n",
       "      <td>8</td>\n",
       "      <td>Volkswagen</td>\n",
       "      <td>Германия</td>\n",
       "      <td>295,82</td>\n",
       "      <td>18,187</td>\n",
       "      <td>601,03</td>\n",
       "      <td>164,24</td>\n",
       "      <td>88,3</td>\n",
       "      <td>672 789[10]</td>\n",
       "    </tr>\n",
       "    <tr>\n",
       "      <th>8</th>\n",
       "      <td>9</td>\n",
       "      <td>China State Construction Engineering</td>\n",
       "      <td>Китай</td>\n",
       "      <td>293,71</td>\n",
       "      <td>4,444</td>\n",
       "      <td>378,35</td>\n",
       "      <td>29,71</td>\n",
       "      <td>-</td>\n",
       "      <td>368 327[11]</td>\n",
       "    </tr>\n",
       "    <tr>\n",
       "      <th>9</th>\n",
       "      <td>10</td>\n",
       "      <td>CVS Health</td>\n",
       "      <td>США</td>\n",
       "      <td>292,11</td>\n",
       "      <td>7,910</td>\n",
       "      <td>233,00</td>\n",
       "      <td>75,08</td>\n",
       "      <td>114,3</td>\n",
       "      <td>258 000[12]</td>\n",
       "    </tr>\n",
       "    <tr>\n",
       "      <th>10</th>\n",
       "      <td>11</td>\n",
       "      <td>UnitedHealth Group</td>\n",
       "      <td>США</td>\n",
       "      <td>287,60</td>\n",
       "      <td>17,285</td>\n",
       "      <td>212,21</td>\n",
       "      <td>71,76</td>\n",
       "      <td>454,8</td>\n",
       "      <td>350 000[13]</td>\n",
       "    </tr>\n",
       "    <tr>\n",
       "      <th>11</th>\n",
       "      <td>12</td>\n",
       "      <td>ExxonMobil</td>\n",
       "      <td>США</td>\n",
       "      <td>285,64</td>\n",
       "      <td>23,040</td>\n",
       "      <td>338,92</td>\n",
       "      <td>168,58</td>\n",
       "      <td>371,8</td>\n",
       "      <td>63 000[14]</td>\n",
       "    </tr>\n",
       "    <tr>\n",
       "      <th>12</th>\n",
       "      <td>13</td>\n",
       "      <td>Toyota Motor</td>\n",
       "      <td>Япония</td>\n",
       "      <td>279,34</td>\n",
       "      <td>25,371</td>\n",
       "      <td>557,52</td>\n",
       "      <td>216,18</td>\n",
       "      <td>236,8</td>\n",
       "      <td>377 369[15]</td>\n",
       "    </tr>\n",
       "    <tr>\n",
       "      <th>13</th>\n",
       "      <td>14</td>\n",
       "      <td>Berkshire Hathaway</td>\n",
       "      <td>США</td>\n",
       "      <td>276,09</td>\n",
       "      <td>89,795</td>\n",
       "      <td>958,78</td>\n",
       "      <td>506,20</td>\n",
       "      <td>683,7</td>\n",
       "      <td>372 000[16]</td>\n",
       "    </tr>\n",
       "    <tr>\n",
       "      <th>14</th>\n",
       "      <td>15</td>\n",
       "      <td>Shell</td>\n",
       "      <td>Великобритания</td>\n",
       "      <td>272,66</td>\n",
       "      <td>20,101</td>\n",
       "      <td>404,38</td>\n",
       "      <td>171,97</td>\n",
       "      <td>179,6</td>\n",
       "      <td>82 000[17]</td>\n",
       "    </tr>\n",
       "    <tr>\n",
       "      <th>15</th>\n",
       "      <td>16</td>\n",
       "      <td>McKesson</td>\n",
       "      <td>США</td>\n",
       "      <td>263,97</td>\n",
       "      <td>1,114</td>\n",
       "      <td>63,30</td>\n",
       "      <td>-2,272</td>\n",
       "      <td>53,6</td>\n",
       "      <td>66 500[18]</td>\n",
       "    </tr>\n",
       "    <tr>\n",
       "      <th>16</th>\n",
       "      <td>17</td>\n",
       "      <td>Alphabet</td>\n",
       "      <td>США</td>\n",
       "      <td>257,64</td>\n",
       "      <td>76,033</td>\n",
       "      <td>359,27</td>\n",
       "      <td>251,64</td>\n",
       "      <td>1276,9</td>\n",
       "      <td>186 779[19]</td>\n",
       "    </tr>\n",
       "    <tr>\n",
       "      <th>17</th>\n",
       "      <td>18</td>\n",
       "      <td>Samsung Electronics</td>\n",
       "      <td>Республика Корея</td>\n",
       "      <td>244,33</td>\n",
       "      <td>34,293</td>\n",
       "      <td>358,98</td>\n",
       "      <td>249,27</td>\n",
       "      <td>298,8</td>\n",
       "      <td>84 462[20]</td>\n",
       "    </tr>\n",
       "    <tr>\n",
       "      <th>18</th>\n",
       "      <td>19</td>\n",
       "      <td>Trafigura Group</td>\n",
       "      <td>Сингапур</td>\n",
       "      <td>231,31</td>\n",
       "      <td>3,100</td>\n",
       "      <td>90,07</td>\n",
       "      <td>10,30</td>\n",
       "      <td>-</td>\n",
       "      <td>9031[21]</td>\n",
       "    </tr>\n",
       "    <tr>\n",
       "      <th>19</th>\n",
       "      <td>20</td>\n",
       "      <td>Hon Hai Precision Industry</td>\n",
       "      <td>Китайская Республика</td>\n",
       "      <td>214,62</td>\n",
       "      <td>4,988</td>\n",
       "      <td>141,04</td>\n",
       "      <td>49,81</td>\n",
       "      <td>48,2</td>\n",
       "      <td>826 608[22]</td>\n",
       "    </tr>\n",
       "  </tbody>\n",
       "</table>\n",
       "</div>"
      ],
      "text/plain": [
       "   Номерп. п.                              Название                Страна  \\\n",
       "0           1                               Walmart                   США   \n",
       "1           2                                Amazon                   США   \n",
       "2           3                            State Grid                 Китай   \n",
       "3           4              China National Petroleum                 Китай   \n",
       "4           5                         Sinopec Group                 Китай   \n",
       "5           6                          Saudi Aramco     Саудовская Аравия   \n",
       "6           7                                 Apple                   США   \n",
       "7           8                            Volkswagen              Германия   \n",
       "8           9  China State Construction Engineering                 Китай   \n",
       "9          10                            CVS Health                   США   \n",
       "10         11                    UnitedHealth Group                   США   \n",
       "11         12                            ExxonMobil                   США   \n",
       "12         13                          Toyota Motor                Япония   \n",
       "13         14                    Berkshire Hathaway                   США   \n",
       "14         15                                 Shell        Великобритания   \n",
       "15         16                              McKesson                   США   \n",
       "16         17                              Alphabet                   США   \n",
       "17         18                   Samsung Electronics      Республика Корея   \n",
       "18         19                       Trafigura Group              Сингапур   \n",
       "19         20            Hon Hai Precision Industry  Китайская Республика   \n",
       "\n",
       "   Выручка,млрд $ Чистаяприбыль,млрд $ Активы,млрд $ Собств.капитал,млрд $  \\\n",
       "0          572,75               13,673        244,86                83,253   \n",
       "1          469,82               33,364        420,55                138,25   \n",
       "2          460,62                7,138        735,43                310,24   \n",
       "3          411,69                9,638        660,01                313,31   \n",
       "4          401,31                8,316        380,67                133,48   \n",
       "5          400,40               105,37        576,13                296,57   \n",
       "6          365,82                94,68        351,00                 63,09   \n",
       "7          295,82               18,187        601,03                164,24   \n",
       "8          293,71                4,444        378,35                 29,71   \n",
       "9          292,11                7,910        233,00                 75,08   \n",
       "10         287,60               17,285        212,21                 71,76   \n",
       "11         285,64               23,040        338,92                168,58   \n",
       "12         279,34               25,371        557,52                216,18   \n",
       "13         276,09               89,795        958,78                506,20   \n",
       "14         272,66               20,101        404,38                171,97   \n",
       "15         263,97                1,114         63,30                -2,272   \n",
       "16         257,64               76,033        359,27                251,64   \n",
       "17         244,33               34,293        358,98                249,27   \n",
       "18         231,31                3,100         90,07                 10,30   \n",
       "19         214,62                4,988        141,04                 49,81   \n",
       "\n",
       "   Рыночнаякапитализ.,млрд $    Числосотр.  \n",
       "0                      379,0  2 300 000[3]  \n",
       "1                      992,1  1 544 000[4]  \n",
       "2                          -    871 145[5]  \n",
       "3                          -  1 090 345[6]  \n",
       "4                          -    542 286[7]  \n",
       "5                     2269,1     68 493[8]  \n",
       "6                     2183,3    164 000[9]  \n",
       "7                       88,3   672 789[10]  \n",
       "8                          -   368 327[11]  \n",
       "9                      114,3   258 000[12]  \n",
       "10                     454,8   350 000[13]  \n",
       "11                     371,8    63 000[14]  \n",
       "12                     236,8   377 369[15]  \n",
       "13                     683,7   372 000[16]  \n",
       "14                     179,6    82 000[17]  \n",
       "15                      53,6    66 500[18]  \n",
       "16                    1276,9   186 779[19]  \n",
       "17                     298,8    84 462[20]  \n",
       "18                         -      9031[21]  \n",
       "19                      48,2   826 608[22]  "
      ]
     },
     "execution_count": 35,
     "metadata": {},
     "output_type": "execute_result"
    }
   ],
   "source": [
    "df"
   ]
  },
  {
   "cell_type": "markdown",
   "id": "817c2362",
   "metadata": {},
   "source": [
    "Сохраняем в csv, убрав автоматический индекс"
   ]
  },
  {
   "cell_type": "code",
   "execution_count": 36,
   "id": "84813155",
   "metadata": {
    "ExecuteTime": {
     "end_time": "2024-01-17T15:06:51.976011Z",
     "start_time": "2024-01-17T15:06:51.948199Z"
    }
   },
   "outputs": [],
   "source": [
    "df.to_csv(r'C:\\Users\\nasty\\Desktop\\Настенькины анализы\\питон\\Project_FortuneGlobal500.csv', index = False)"
   ]
  }
 ],
 "metadata": {
  "kernelspec": {
   "display_name": "Python 3 (ipykernel)",
   "language": "python",
   "name": "python3"
  },
  "language_info": {
   "codemirror_mode": {
    "name": "ipython",
    "version": 3
   },
   "file_extension": ".py",
   "mimetype": "text/x-python",
   "name": "python",
   "nbconvert_exporter": "python",
   "pygments_lexer": "ipython3",
   "version": "3.11.5"
  },
  "toc": {
   "base_numbering": 1,
   "nav_menu": {},
   "number_sections": true,
   "sideBar": true,
   "skip_h1_title": false,
   "title_cell": "Table of Contents",
   "title_sidebar": "Contents",
   "toc_cell": false,
   "toc_position": {},
   "toc_section_display": true,
   "toc_window_display": false
  }
 },
 "nbformat": 4,
 "nbformat_minor": 5
}
